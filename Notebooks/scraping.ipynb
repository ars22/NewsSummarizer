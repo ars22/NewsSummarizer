{
 "cells": [
  {
   "cell_type": "code",
   "execution_count": 1,
   "metadata": {
    "collapsed": true
   },
   "outputs": [],
   "source": [
    "import scrapy"
   ]
  },
  {
   "cell_type": "code",
   "execution_count": 7,
   "metadata": {
    "collapsed": false
   },
   "outputs": [],
   "source": [
    "import os"
   ]
  },
  {
   "cell_type": "code",
   "execution_count": 8,
   "metadata": {
    "collapsed": false
   },
   "outputs": [
    {
     "data": {
      "text/plain": [
       "['',\n",
       " 'C:\\\\Python27\\\\Lib',\n",
       " 'C:\\\\Python27\\\\DLLs',\n",
       " 'C:\\\\Python27\\\\Lib\\\\lib-tk',\n",
       " 'C:\\\\Python27\\\\Programs',\n",
       " 'C:\\\\Python27',\n",
       " 'C:\\\\Users\\\\Sri Ranga Sai\\\\Anaconda2\\\\python27.zip',\n",
       " 'C:\\\\Users\\\\Sri Ranga Sai\\\\Anaconda2\\\\DLLs',\n",
       " 'C:\\\\Users\\\\Sri Ranga Sai\\\\Anaconda2\\\\lib',\n",
       " 'C:\\\\Users\\\\Sri Ranga Sai\\\\Anaconda2\\\\lib\\\\plat-win',\n",
       " 'C:\\\\Users\\\\Sri Ranga Sai\\\\Anaconda2\\\\lib\\\\lib-tk',\n",
       " 'C:\\\\Users\\\\Sri Ranga Sai\\\\Anaconda2',\n",
       " 'C:\\\\Users\\\\Sri Ranga Sai\\\\Anaconda2\\\\lib\\\\site-packages',\n",
       " 'C:\\\\Users\\\\Sri Ranga Sai\\\\Anaconda2\\\\lib\\\\site-packages\\\\Sphinx-1.5.1-py2.7.egg',\n",
       " 'C:\\\\Users\\\\Sri Ranga Sai\\\\Anaconda2\\\\lib\\\\site-packages\\\\win32',\n",
       " 'C:\\\\Users\\\\Sri Ranga Sai\\\\Anaconda2\\\\lib\\\\site-packages\\\\win32\\\\lib',\n",
       " 'C:\\\\Users\\\\Sri Ranga Sai\\\\Anaconda2\\\\lib\\\\site-packages\\\\Pythonwin',\n",
       " 'C:\\\\Users\\\\Sri Ranga Sai\\\\Anaconda2\\\\lib\\\\site-packages\\\\setuptools-27.2.0-py2.7.egg',\n",
       " 'C:\\\\Users\\\\Sri Ranga Sai\\\\Anaconda2\\\\lib\\\\site-packages\\\\IPython\\\\extensions',\n",
       " 'C:\\\\Users\\\\Sri Ranga Sai\\\\.ipython']"
      ]
     },
     "execution_count": 8,
     "metadata": {},
     "output_type": "execute_result"
    }
   ],
   "source": [
    "os.sys.path"
   ]
  },
  {
   "cell_type": "code",
   "execution_count": 9,
   "metadata": {
    "collapsed": true
   },
   "outputs": [],
   "source": [
    "os.sys.path.append('..')"
   ]
  },
  {
   "cell_type": "code",
   "execution_count": 14,
   "metadata": {
    "collapsed": false
   },
   "outputs": [],
   "source": [
    "os.sys.path.append('C:\\\\Users\\\\Sri Ranga Sai\\\\workspace\\\\NewsSummarizer')\n"
   ]
  },
  {
   "cell_type": "code",
   "execution_count": 20,
   "metadata": {
    "collapsed": false
   },
   "outputs": [],
   "source": [
    "import Scrapers.NYT.Spider.NYItem"
   ]
  },
  {
   "cell_type": "code",
   "execution_count": 21,
   "metadata": {
    "collapsed": false
   },
   "outputs": [
    {
     "name": "stderr",
     "output_type": "stream",
     "text": [
      "2017-02-25 03:29:28 [scrapy.utils.log] INFO: Scrapy 1.3.2 started (bot: scrapybot)\n",
      "2017-02-25 03:29:28 [scrapy.utils.log] INFO: Overridden settings: {}\n",
      "Usage\n",
      "=====\n",
      "  scrapy runspider [options] <spider_file>\n",
      "\n",
      "runspider: error: Unable to load '../Scrapers/NYT/Spider/NYSpider.py': No module named Scrapers.NYT.Spider.NYItem\n",
      "\n"
     ]
    }
   ],
   "source": [
    "!scrapy runspider ../Scrapers/NYT/Spider/NYSpider.py"
   ]
  },
  {
   "cell_type": "code",
   "execution_count": 22,
   "metadata": {
    "collapsed": false
   },
   "outputs": [
    {
     "name": "stderr",
     "output_type": "stream",
     "text": [
      "2017-02-25 10:53:14 [scrapy.utils.log] INFO: Scrapy 1.3.2 started (bot: scrapybot)\n",
      "2017-02-25 10:53:14 [scrapy.utils.log] INFO: Overridden settings: {}\n",
      "Usage\n",
      "=====\n",
      "  scrapy runspider [options] <spider_file>\n",
      "\n",
      "runspider: error: File not found: NYSpider.py\n",
      "\n"
     ]
    }
   ],
   "source": [
    "!scrapy runspider NYSpider.py"
   ]
  },
  {
   "cell_type": "code",
   "execution_count": 26,
   "metadata": {
    "collapsed": true
   },
   "outputs": [],
   "source": [
    "def tst(i):\n",
    "    for j in range(i):\n",
    "        yield j\n",
    "    for s in range(i):\n",
    "        yield 2*s"
   ]
  },
  {
   "cell_type": "code",
   "execution_count": 27,
   "metadata": {
    "collapsed": false
   },
   "outputs": [
    {
     "name": "stdout",
     "output_type": "stream",
     "text": [
      "0\n",
      "1\n",
      "2\n",
      "3\n",
      "4\n",
      "0\n",
      "2\n",
      "4\n",
      "6\n",
      "8\n"
     ]
    }
   ],
   "source": [
    "for k in tst(5):\n",
    "    print k"
   ]
  },
  {
   "cell_type": "code",
   "execution_count": 28,
   "metadata": {
    "collapsed": true
   },
   "outputs": [],
   "source": [
    "s = u'On the morning of May 27, 1964, a little more than two months before the Gulf of Tonkin Resolution sailed through the House and Senate, allowing the White House the military authority to do what was needed in Southeast Asia, President Lyndon B. Johnson made two phone calls.The first, which phone logs show he made at 10:55, was with Senator Richard B. Russell, the Georgia Democrat who headed the Armed Services Committee. \\u201cWhat do you think about this Vietnam thing?\\u201d Johnson asked the senator, a longtime friend and mentor. \\u201cI\\u2019d like to hear you talk a little.\\u201d\\u201cFrankly, Mr. President,\\u201d Russell replied, \\u201cif you were to tell me that I was authorized to settle it as I saw fit, I would respectfully decline to undertake it. It\\u2019s the damned worst mess I ever saw.\\u201dLess than a half-hour later, at 11:24, Johnson called McGeorge Bundy, his national security adviser. \\u201cI\\u2019ll tell you, the more \\u2014 I just stayed awake last night thinking about this thing \\u2014 the more I think of it ... it looks like to me we\\u2019re getting into another Korea,\\u201d he said in a voice of foreboding. \\u201cI don\\u2019t think it\\u2019s worth fighting for and I don\\u2019t think we can get out. And it\\u2019s just the biggest damn mess.\\u201dThe president continued, \\u201cWhat the hell is Vietnam worth to me? ... What is it worth to this country? ... It\\u2019s damn easy to get in a war, but it\\u2019s going to be awfully hard to ever extricate yourself if you get in.\\u201dThese two calls, placed less than a half-hour apart, say everything there is to say about the crisis that would soon shroud Johnson\\u2019s presidency. The question is, how did a president who understood all of this \\u2014 and who had people around him to make sure he didn\\u2019t forget \\u2014 nevertheless lead the country into a disastrous war?Johnson had, to be fair, inherited a mess. After the French left Vietnam in 1954 and the country was partitioned, Dwight D. Eisenhower and, after him, John F. Kennedy sent billions in aid and advisers to support the South Vietnamese government under Ngo Dinh Diem. His weak regime needed the money to ward off the Communist insurgency of the Vietcong, a guerrilla force aided by the north\\u2019s Ho Chi Minh, who had designs to reunify Vietnam. It was an outcome the Americans couldn\\u2019t accept: According to the so-called domino theory, a Communist victory in Vietnam would inevitably snowball across the region.And yet Vietnam remained a trouble spot that continued to fester. With the tacit backing of the Kennedy administration, a military coup occurred on Nov. 1, 1963, resulting in Diem\\u2019s assassination.It was a move about which Johnson had deep misgivings. \\u201cI don\\u2019t believe assassination is ever justified,\\u201d he said later. \\u201cThey were ruthless people. Ho Chi Minh was. But I mean it was ruthless of the United States government, with our boasted list of freedoms, to condone assassination because you don\\u2019t approve of a political philosophy.\\u201d Still, after Kennedy\\u2019s assassination, Johnson dived into Vietnam immediately. \\u201cThose first few days,\\u201d he remembered, \\u201cVietnam was on top of the agenda, before the visiting heads of state got home from the funeral.\\u201dHis willingness can be explained partly by the man, and partly by his times. Unlike his Democratic Cold War predecessors, Harry S. Truman and Kennedy, Johnson was not so much a student of history as he was of human nature. There he paid attention, picking up on the weaknesses and frailties of those around him in the corridors of power the way a dog senses fear, often exploiting them for political advantage.Since arriving in Washington in 1934, Johnson had drawn lessons from the world-changing mistakes made by heads of state, especially those that he believed stemmed from weakness. During Johnson\\u2019s first term as a congressman, in 1938, Prime Minister Neville Chamberlain of Britain appeased Hitler in the belief that he was offering his countrymen \\u201cpeace for our time,\\u201d while instead allowing for the German occupation of Czechoslovakia, the unchecked invasion of Poland and the beginning of World War II.As the war wound down, Franklin D. Roosevelt, in not taking a firmer hand with Stalin at the Yalta Conference \\u2014 where Allied leaders met to discuss the fate of the postwar world \\u2014 opened the door for the Soviet domination of Eastern Europe and the Soviets\\u2019 attempts to spread their influence across the globe.Truman, Roosevelt\\u2019s successor, while drawing bold lines in the Cold War through a strict policy of containment, sent troops into battle in Korea without being fully prepared for what lay ahead as American support slipped. For the first time an American war ended in a draw. At the same time, Republicans harshly criticized Truman when the Communist revolutionaries led by Mao took over China as America turned a blind eye. The \\u201cWho Lost China?\\u201d debate that swept through Washington afterward was less a question than a Republican indictment of Truman and the Democratic Party.During Eisenhower\\u2019s eight White House years, while Johnson was Senate minority and then majority leader, the country was defined by its geopolitical position versus the Soviets. Any Soviet gain \\u2014 a country falling to Communist rule, an American citizen yielding to Communist sympathies \\u2014 was evidence that the Red Menace was knocking at America\\u2019s door, giving rise to the domino theory abroad and McCarthyism at home. Fear was the great motivator.In 1957, when the Soviets showed the world their superiority in space exploration with Sputnik, a satellite no larger than a beach ball, Johnson was a catalyst for improving the country\\u2019s shoddy space efforts. As he asked rhetorically, \\u201cWhat American wants to go to bed by the light of a Communist moon?\\u201dIn 1959, when Cuba\\u2019s American-backed military dictator, Fulgencio Batista, was overthrown by Fidel Castro\\u2019s guerrillas, bringing Communism to the Western Hemisphere, Johnson believed the Eisenhower administration hadn\\u2019t done enough to prevent the insurgency. \\u201cIke sat on his fanny and let them take it by force,\\u201d he said later.Kennedy also got into the act as a presidential candidate in 1960, exploiting American fears of a nuclear missile gap with the Soviets, less a reality than a campaign tactic effective enough to win him the White House by the thinnest of margins. Kennedy\\u2019s inaugural rhetoric \\u2014 \\u201cWe shall pay any price, bear any burden, meet any hardship, support any friend, oppose any foe, to assure the survival and success of liberty\\u201d \\u2014 amounted to Cold War bravado. But he would soon stumble with his support of a botched military incursion in Cuba at the Bay of Pigs. Emboldened by Kennedy\\u2019s humiliation, the Soviets led the United States to the brink of nuclear war a year and a half later as American ships blocked the Soviets from moving nuclear warheads into Cuba.Weakness, Johnson had seen in three decades in Washington, was never rewarded. When he said of Vietnam, \\u201cWe\\u2019re not going to have any men with any umbrellas,\\u201d a pointed reference to the hapless Chamberlain, the message was clear: America would stand up to Ho Chi Minh and the Vietcong in a way that Chamberlain had not stood up to Hitler and the Nazi regime. For the 36th president, Vietnam began less as a conflict he was determined to win than as one he couldn\\u2019t afford to lose.Lyndon Johnson was not going to be the first president to lose a war \\u2014 and to the Communists, no less. But what began as a reflexive response to support Kennedy\\u2019s policy in the region, overwhelmingly supported by Congress, his cabinet, and the nation would over time become the central crisis of Johnson\\u2019s presidency.Ultimately, despite the consternation he so presciently expressed in the spring of 1964, Vietnam did mean something to Johnson. It became evident with the escalation of American military involvement in the war beginning in 1965. If Johnson had bet much of his presidency on the programs of the Great Society \\u2015 civil rights, federal aid to education, Medicare, Medicaid, immigration reform \\u2015 he stacked the balance of his chips fatefully behind the war in Vietnam. And, as he predicted, he found it nearly impossible to \\u201cextricate\\u201d himself once he got in deep.'"
   ]
  },
  {
   "cell_type": "code",
   "execution_count": 31,
   "metadata": {
    "collapsed": false
   },
   "outputs": [
    {
     "data": {
      "text/plain": [
       "u'On the morning of May 27, 1964, a little more than two months before the Gulf of Tonkin Resolution sailed through the House and Senate, allowing the White House the military authority to do what was needed in Southeast Asia, President Lyndon B. Johnson made two phone calls.The first, which phone logs show he made at 10:55, was with Senator Richard B. Russell, the Georgia Democrat who headed the Armed Services Committee. \\u201cWhat do you think about this Vietnam thing?\\u201d Johnson asked the senator, a longtime friend and mentor. \\u201cI\\u2019d like to hear you talk a little.\\u201d\\u201cFrankly, Mr. President,\\u201d Russell replied, \\u201cif you were to tell me that I was authorized to settle it as I saw fit, I would respectfully decline to undertake it. It\\u2019s the damned worst mess I ever saw.\\u201dLess than a half-hour later, at 11:24, Johnson called McGeorge Bundy, his national security adviser. \\u201cI\\u2019ll tell you, the more \\u2014 I just stayed awake last night thinking about this thing \\u2014 the more I think of it ... it looks like to me we\\u2019re getting into another Korea,\\u201d he said in a voice of foreboding. \\u201cI don\\u2019t think it\\u2019s worth fighting for and I don\\u2019t think we can get out. And it\\u2019s just the biggest damn mess.\\u201dThe president continued, \\u201cWhat the hell is Vietnam worth to me? ... What is it worth to this country? ... It\\u2019s damn easy to get in a war, but it\\u2019s going to be awfully hard to ever extricate yourself if you get in.\\u201dThese two calls, placed less than a half-hour apart, say everything there is to say about the crisis that would soon shroud Johnson\\u2019s presidency. The question is, how did a president who understood all of this \\u2014 and who had people around him to make sure he didn\\u2019t forget \\u2014 nevertheless lead the country into a disastrous war?Johnson had, to be fair, inherited a mess. After the French left Vietnam in 1954 and the country was partitioned, Dwight D. Eisenhower and, after him, John F. Kennedy sent billions in aid and advisers to support the South Vietnamese government under Ngo Dinh Diem. His weak regime needed the money to ward off the Communist insurgency of the Vietcong, a guerrilla force aided by the north\\u2019s Ho Chi Minh, who had designs to reunify Vietnam. It was an outcome the Americans couldn\\u2019t accept: According to the so-called domino theory, a Communist victory in Vietnam would inevitably snowball across the region.And yet Vietnam remained a trouble spot that continued to fester. With the tacit backing of the Kennedy administration, a military coup occurred on Nov. 1, 1963, resulting in Diem\\u2019s assassination.It was a move about which Johnson had deep misgivings. \\u201cI don\\u2019t believe assassination is ever justified,\\u201d he said later. \\u201cThey were ruthless people. Ho Chi Minh was. But I mean it was ruthless of the United States government, with our boasted list of freedoms, to condone assassination because you don\\u2019t approve of a political philosophy.\\u201d Still, after Kennedy\\u2019s assassination, Johnson dived into Vietnam immediately. \\u201cThose first few days,\\u201d he remembered, \\u201cVietnam was on top of the agenda, before the visiting heads of state got home from the funeral.\\u201dHis willingness can be explained partly by the man, and partly by his times. Unlike his Democratic Cold War predecessors, Harry S. Truman and Kennedy, Johnson was not so much a student of history as he was of human nature. There he paid attention, picking up on the weaknesses and frailties of those around him in the corridors of power the way a dog senses fear, often exploiting them for political advantage.Since arriving in Washington in 1934, Johnson had drawn lessons from the world-changing mistakes made by heads of state, especially those that he believed stemmed from weakness. During Johnson\\u2019s first term as a congressman, in 1938, Prime Minister Neville Chamberlain of Britain appeased Hitler in the belief that he was offering his countrymen \\u201cpeace for our time,\\u201d while instead allowing for the German occupation of Czechoslovakia, the unchecked invasion of Poland and the beginning of World War II.As the war wound down, Franklin D. Roosevelt, in not taking a firmer hand with Stalin at the Yalta Conference \\u2014 where Allied leaders met to discuss the fate of the postwar world \\u2014 opened the door for the Soviet domination of Eastern Europe and the Soviets\\u2019 attempts to spread their influence across the globe.Truman, Roosevelt\\u2019s successor, while drawing bold lines in the Cold War through a strict policy of containment, sent troops into battle in Korea without being fully prepared for what lay ahead as American support slipped. For the first time an American war ended in a draw. At the same time, Republicans harshly criticized Truman when the Communist revolutionaries led by Mao took over China as America turned a blind eye. The \\u201cWho Lost China?\\u201d debate that swept through Washington afterward was less a question than a Republican indictment of Truman and the Democratic Party.During Eisenhower\\u2019s eight White House years, while Johnson was Senate minority and then majority leader, the country was defined by its geopolitical position versus the Soviets. Any Soviet gain \\u2014 a country falling to Communist rule, an American citizen yielding to Communist sympathies \\u2014 was evidence that the Red Menace was knocking at America\\u2019s door, giving rise to the domino theory abroad and McCarthyism at home. Fear was the great motivator.In 1957, when the Soviets showed the world their superiority in space exploration with Sputnik, a satellite no larger than a beach ball, Johnson was a catalyst for improving the country\\u2019s shoddy space efforts. As he asked rhetorically, \\u201cWhat American wants to go to bed by the light of a Communist moon?\\u201dIn 1959, when Cuba\\u2019s American-backed military dictator, Fulgencio Batista, was overthrown by Fidel Castro\\u2019s guerrillas, bringing Communism to the Western Hemisphere, Johnson believed the Eisenhower administration hadn\\u2019t done enough to prevent the insurgency. \\u201cIke sat on his fanny and let them take it by force,\\u201d he said later.Kennedy also got into the act as a presidential candidate in 1960, exploiting American fears of a nuclear missile gap with the Soviets, less a reality than a campaign tactic effective enough to win him the White House by the thinnest of margins. Kennedy\\u2019s inaugural rhetoric \\u2014 \\u201cWe shall pay any price, bear any burden, meet any hardship, support any friend, oppose any foe, to assure the survival and success of liberty\\u201d \\u2014 amounted to Cold War bravado. But he would soon stumble with his support of a botched military incursion in Cuba at the Bay of Pigs. Emboldened by Kennedy\\u2019s humiliation, the Soviets led the United States to the brink of nuclear war a year and a half later as American ships blocked the Soviets from moving nuclear warheads into Cuba.Weakness, Johnson had seen in three decades in Washington, was never rewarded. When he said of Vietnam, \\u201cWe\\u2019re not going to have any men with any umbrellas,\\u201d a pointed reference to the hapless Chamberlain, the message was clear: America would stand up to Ho Chi Minh and the Vietcong in a way that Chamberlain had not stood up to Hitler and the Nazi regime. For the 36th president, Vietnam began less as a conflict he was determined to win than as one he couldn\\u2019t afford to lose.Lyndon Johnson was not going to be the first president to lose a war \\u2014 and to the Communists, no less. But what began as a reflexive response to support Kennedy\\u2019s policy in the region, overwhelmingly supported by Congress, his cabinet, and the nation would over time become the central crisis of Johnson\\u2019s presidency.Ultimately, despite the consternation he so presciently expressed in the spring of 1964, Vietnam did mean something to Johnson. It became evident with the escalation of American military involvement in the war beginning in 1965. If Johnson had bet much of his presidency on the programs of the Great Society \\u2015 civil rights, federal aid to education, Medicare, Medicaid, immigration reform \\u2015 he stacked the balance of his chips fatefully behind the war in Vietnam. And, as he predicted, he found it nearly impossible to \\u201cextricate\\u201d himself once he got in deep.'"
      ]
     },
     "execution_count": 31,
     "metadata": {},
     "output_type": "execute_result"
    }
   ],
   "source": [
    "s"
   ]
  },
  {
   "cell_type": "code",
   "execution_count": 33,
   "metadata": {
    "collapsed": true
   },
   "outputs": [],
   "source": [
    "    def filter_unicode(s):\n",
    "        if s is None:\n",
    "            return s\n",
    "        s = s.replace(\"u'\", \"\")\n",
    "        s = s.replace(\"\\u201d\",\"\\\"\")\n",
    "        s = s.replace(\"\\u201c\", \"\\\"\")\n",
    "        s = s.replace(\"\\u2019\", \"'\")\n",
    "        s = s.replace(\"\\u2018\", \"'\")\n",
    "        s = s.replace(\"\\u2014\", \" \")\n",
    "        s = s.replace(\"\\'\", \"\")\n",
    "        s = s.replace(\"\\\"\", \"\")\n",
    "        return s"
   ]
  },
  {
   "cell_type": "code",
   "execution_count": 34,
   "metadata": {
    "collapsed": true
   },
   "outputs": [],
   "source": [
    "a=s\n",
    "a=filter_unicode(a)"
   ]
  },
  {
   "cell_type": "code",
   "execution_count": 43,
   "metadata": {
    "collapsed": false
   },
   "outputs": [],
   "source": [
    "a=filter_unicode(a[1:-1])"
   ]
  },
  {
   "cell_type": "code",
   "execution_count": 39,
   "metadata": {
    "collapsed": false
   },
   "outputs": [],
   "source": [
    "a=a.replace(\"u'\",\"\")"
   ]
  },
  {
   "cell_type": "code",
   "execution_count": 46,
   "metadata": {
    "collapsed": false
   },
   "outputs": [],
   "source": [
    "b=s"
   ]
  },
  {
   "cell_type": "code",
   "execution_count": 50,
   "metadata": {
    "collapsed": false
   },
   "outputs": [
    {
     "name": "stdout",
     "output_type": "stream",
     "text": [
      "On the morning of May 27, 1964, a little more than two months before the Gulf of Tonkin Resolution sailed through the House and Senate, allowing the White House the military authority to do what was needed in Southeast Asia, President Lyndon B. Johnson made two phone calls.The first, which phone logs show he made at 10:55, was with Senator Richard B. Russell, the Georgia Democrat who headed the Armed Services Committee. “What do you think about this Vietnam thing?” Johnson asked the senator, a longtime friend and mentor. “I’d like to hear you talk a little.”“Frankly, Mr. President,” Russell replied, “if you were to tell me that I was authorized to settle it as I saw fit, I would respectfully decline to undertake it. It’s the damned worst mess I ever saw.”Less than a half-hour later, at 11:24, Johnson called McGeorge Bundy, his national security adviser. “I’ll tell you, the more — I just stayed awake last night thinking about this thing — the more I think of it ... it looks like to me we’re getting into another Korea,” he said in a voice of foreboding. “I don’t think it’s worth fighting for and I don’t think we can get out. And it’s just the biggest damn mess.”The president continued, “What the hell is Vietnam worth to me? ... What is it worth to this country? ... It’s damn easy to get in a war, but it’s going to be awfully hard to ever extricate yourself if you get in.”These two calls, placed less than a half-hour apart, say everything there is to say about the crisis that would soon shroud Johnson’s presidency. The question is, how did a president who understood all of this — and who had people around him to make sure he didn’t forget — nevertheless lead the country into a disastrous war?Johnson had, to be fair, inherited a mess. After the French left Vietnam in 1954 and the country was partitioned, Dwight D. Eisenhower and, after him, John F. Kennedy sent billions in aid and advisers to support the South Vietnamese government under Ngo Dinh Diem. His weak regime needed the money to ward off the Communist insurgency of the Vietcong, a guerrilla force aided by the north’s Ho Chi Minh, who had designs to reunify Vietnam. It was an outcome the Americans couldn’t accept: According to the so-called domino theory, a Communist victory in Vietnam would inevitably snowball across the region.And yet Vietnam remained a trouble spot that continued to fester. With the tacit backing of the Kennedy administration, a military coup occurred on Nov. 1, 1963, resulting in Diem’s assassination.It was a move about which Johnson had deep misgivings. “I don’t believe assassination is ever justified,” he said later. “They were ruthless people. Ho Chi Minh was. But I mean it was ruthless of the United States government, with our boasted list of freedoms, to condone assassination because you don’t approve of a political philosophy.” Still, after Kennedy’s assassination, Johnson dived into Vietnam immediately. “Those first few days,” he remembered, “Vietnam was on top of the agenda, before the visiting heads of state got home from the funeral.”His willingness can be explained partly by the man, and partly by his times. Unlike his Democratic Cold War predecessors, Harry S. Truman and Kennedy, Johnson was not so much a student of history as he was of human nature. There he paid attention, picking up on the weaknesses and frailties of those around him in the corridors of power the way a dog senses fear, often exploiting them for political advantage.Since arriving in Washington in 1934, Johnson had drawn lessons from the world-changing mistakes made by heads of state, especially those that he believed stemmed from weakness. During Johnson’s first term as a congressman, in 1938, Prime Minister Neville Chamberlain of Britain appeased Hitler in the belief that he was offering his countrymen “peace for our time,” while instead allowing for the German occupation of Czechoslovakia, the unchecked invasion of Poland and the beginning of World War II.As the war wound down, Franklin D. Roosevelt, in not taking a firmer hand with Stalin at the Yalta Conference — where Allied leaders met to discuss the fate of the postwar world — opened the door for the Soviet domination of Eastern Europe and the Soviets’ attempts to spread their influence across the globe.Truman, Roosevelt’s successor, while drawing bold lines in the Cold War through a strict policy of containment, sent troops into battle in Korea without being fully prepared for what lay ahead as American support slipped. For the first time an American war ended in a draw. At the same time, Republicans harshly criticized Truman when the Communist revolutionaries led by Mao took over China as America turned a blind eye. The “Who Lost China?” debate that swept through Washington afterward was less a question than a Republican indictment of Truman and the Democratic Party.During Eisenhower’s eight White House years, while Johnson was Senate minority and then majority leader, the country was defined by its geopolitical position versus the Soviets. Any Soviet gain — a country falling to Communist rule, an American citizen yielding to Communist sympathies — was evidence that the Red Menace was knocking at America’s door, giving rise to the domino theory abroad and McCarthyism at home. Fear was the great motivator.In 1957, when the Soviets showed the world their superiority in space exploration with Sputnik, a satellite no larger than a beach ball, Johnson was a catalyst for improving the country’s shoddy space efforts. As he asked rhetorically, “What American wants to go to bed by the light of a Communist moon?”In 1959, when Cuba’s American-backed military dictator, Fulgencio Batista, was overthrown by Fidel Castro’s guerrillas, bringing Communism to the Western Hemisphere, Johnson believed the Eisenhower administration hadn’t done enough to prevent the insurgency. “Ike sat on his fanny and let them take it by force,” he said later.Kennedy also got into the act as a presidential candidate in 1960, exploiting American fears of a nuclear missile gap with the Soviets, less a reality than a campaign tactic effective enough to win him the White House by the thinnest of margins. Kennedy’s inaugural rhetoric — “We shall pay any price, bear any burden, meet any hardship, support any friend, oppose any foe, to assure the survival and success of liberty” — amounted to Cold War bravado. But he would soon stumble with his support of a botched military incursion in Cuba at the Bay of Pigs. Emboldened by Kennedy’s humiliation, the Soviets led the United States to the brink of nuclear war a year and a half later as American ships blocked the Soviets from moving nuclear warheads into Cuba.Weakness, Johnson had seen in three decades in Washington, was never rewarded. When he said of Vietnam, “We’re not going to have any men with any umbrellas,” a pointed reference to the hapless Chamberlain, the message was clear: America would stand up to Ho Chi Minh and the Vietcong in a way that Chamberlain had not stood up to Hitler and the Nazi regime. For the 36th president, Vietnam began less as a conflict he was determined to win than as one he couldn’t afford to lose.Lyndon Johnson was not going to be the first president to lose a war — and to the Communists, no less. But what began as a reflexive response to support Kennedy’s policy in the region, overwhelmingly supported by Congress, his cabinet, and the nation would over time become the central crisis of Johnson’s presidency.Ultimately, despite the consternation he so presciently expressed in the spring of 1964, Vietnam did mean something to Johnson. It became evident with the escalation of American military involvement in the war beginning in 1965. If Johnson had bet much of his presidency on the programs of the Great Society ― civil rights, federal aid to education, Medicare, Medicaid, immigration reform ― he stacked the balance of his chips fatefully behind the war in Vietnam. And, as he predicted, he found it nearly impossible to “extricate” himself once he got in deep.\n"
     ]
    }
   ],
   "source": [
    "print b.encode('utf-8')"
   ]
  },
  {
   "cell_type": "code",
   "execution_count": 117,
   "metadata": {
    "collapsed": true
   },
   "outputs": [],
   "source": [
    "def unicodetoascii(text):\n",
    "\n",
    "    uni2ascii = {\n",
    "            ord('\\xe2\\x80\\x99'.decode('utf-8')): ord(\"'\"),\n",
    "            ord('\\xe2\\x80\\x9c'.decode('utf-8')): ord('\"'),\n",
    "            ord('\\xe2\\x80\\x9d'.decode('utf-8')): ord('\"'),\n",
    "            ord('\\xe2\\x80\\x9e'.decode('utf-8')): ord('\"'),\n",
    "            ord('\\xe2\\x80\\x9f'.decode('utf-8')): ord('\"'),\n",
    "            ord('\\xc3\\xa9'.decode('utf-8')): ord('e'),\n",
    "            ord('\\xe2\\x80\\x9c'.decode('utf-8')): ord('\"'),\n",
    "            ord('\\xe2\\x80\\x93'.decode('utf-8')): ord('-'),\n",
    "            ord('\\xe2\\x80\\x92'.decode('utf-8')): ord('-'),\n",
    "            ord('\\xe2\\x80\\x94'.decode('utf-8')): ord('-'),\n",
    "            ord('\\xe2\\x80\\x94'.decode('utf-8')): ord('-'),\n",
    "            ord('\\xe2\\x80\\x98'.decode('utf-8')): ord(\"'\"),\n",
    "            ord('\\xe2\\x80\\x9b'.decode('utf-8')): ord(\"'\"),\n",
    "\n",
    "            ord('\\xe2\\x80\\x90'.decode('utf-8')): ord('-'),\n",
    "            ord('\\xe2\\x80\\x91'.decode('utf-8')): ord('-'),\n",
    "\n",
    "            ord('\\xe2\\x80\\xb2'.decode('utf-8')): ord(\"'\"),\n",
    "            ord('\\xe2\\x80\\xb3'.decode('utf-8')): ord(\"'\"),\n",
    "            ord('\\xe2\\x80\\xb4'.decode('utf-8')): ord(\"'\"),\n",
    "            ord('\\xe2\\x80\\xb5'.decode('utf-8')): ord(\"'\"),\n",
    "            ord('\\xe2\\x80\\xb6'.decode('utf-8')): ord(\"'\"),\n",
    "            ord('\\xe2\\x80\\xb7'.decode('utf-8')): ord(\"'\"),\n",
    "\n",
    "            ord('\\xe2\\x81\\xba'.decode('utf-8')): ord(\"+\"),\n",
    "            ord('\\xe2\\x81\\xbb'.decode('utf-8')): ord(\"-\"),\n",
    "            ord('\\xe2\\x81\\xbc'.decode('utf-8')): ord(\"=\"),\n",
    "            ord('\\xe2\\x81\\xbd'.decode('utf-8')): ord(\"(\"),\n",
    "            ord('\\xe2\\x81\\xbe'.decode('utf-8')): ord(\")\"),\n",
    "            ord('\\xe2\\x80\\x95'.decode('utf-8')): ord(\"-\")\n",
    "            }\n",
    "    \n",
    "    return text.translate(uni2ascii).encode('ascii','ignore')"
   ]
  },
  {
   "cell_type": "code",
   "execution_count": 118,
   "metadata": {
    "collapsed": false
   },
   "outputs": [
    {
     "data": {
      "text/plain": [
       "str"
      ]
     },
     "execution_count": 118,
     "metadata": {},
     "output_type": "execute_result"
    }
   ],
   "source": [
    "type(s.encode('utf-8'))"
   ]
  },
  {
   "cell_type": "code",
   "execution_count": 119,
   "metadata": {
    "collapsed": false
   },
   "outputs": [
    {
     "name": "stdout",
     "output_type": "stream",
     "text": [
      "“\n"
     ]
    }
   ],
   "source": [
    "print u'\\u201c'"
   ]
  },
  {
   "cell_type": "code",
   "execution_count": 120,
   "metadata": {
    "collapsed": false
   },
   "outputs": [
    {
     "data": {
      "text/plain": [
       "u'\\u2019'"
      ]
     },
     "execution_count": 120,
     "metadata": {},
     "output_type": "execute_result"
    }
   ],
   "source": [
    "'\\xe2\\x80\\x99'.decode('utf-8')"
   ]
  },
  {
   "cell_type": "code",
   "execution_count": 121,
   "metadata": {
    "collapsed": false
   },
   "outputs": [
    {
     "name": "stdout",
     "output_type": "stream",
     "text": [
      "“\n"
     ]
    }
   ],
   "source": [
    "print '\\xe2\\x80\\x9c'.decode('utf-8')"
   ]
  },
  {
   "cell_type": "code",
   "execution_count": 122,
   "metadata": {
    "collapsed": false
   },
   "outputs": [
    {
     "name": "stdout",
     "output_type": "stream",
     "text": [
      "‟\n"
     ]
    }
   ],
   "source": [
    "print '\\xe2\\x80\\x9f'.decode('utf-8')"
   ]
  },
  {
   "cell_type": "code",
   "execution_count": 123,
   "metadata": {
    "collapsed": false
   },
   "outputs": [
    {
     "data": {
      "text/plain": [
       "'On the morning of May 27, 1964, a little more than two months before the Gulf of Tonkin Resolution sailed through the House and Senate, allowing the White House the military authority to do what was needed in Southeast Asia, President Lyndon B. Johnson made two phone calls.The first, which phone logs show he made at 10:55, was with Senator Richard B. Russell, the Georgia Democrat who headed the Armed Services Committee. \"What do you think about this Vietnam thing?\" Johnson asked the senator, a longtime friend and mentor. \"I\\'d like to hear you talk a little.\"\"Frankly, Mr. President,\" Russell replied, \"if you were to tell me that I was authorized to settle it as I saw fit, I would respectfully decline to undertake it. It\\'s the damned worst mess I ever saw.\"Less than a half-hour later, at 11:24, Johnson called McGeorge Bundy, his national security adviser. \"I\\'ll tell you, the more - I just stayed awake last night thinking about this thing - the more I think of it ... it looks like to me we\\'re getting into another Korea,\" he said in a voice of foreboding. \"I don\\'t think it\\'s worth fighting for and I don\\'t think we can get out. And it\\'s just the biggest damn mess.\"The president continued, \"What the hell is Vietnam worth to me? ... What is it worth to this country? ... It\\'s damn easy to get in a war, but it\\'s going to be awfully hard to ever extricate yourself if you get in.\"These two calls, placed less than a half-hour apart, say everything there is to say about the crisis that would soon shroud Johnson\\'s presidency. The question is, how did a president who understood all of this - and who had people around him to make sure he didn\\'t forget - nevertheless lead the country into a disastrous war?Johnson had, to be fair, inherited a mess. After the French left Vietnam in 1954 and the country was partitioned, Dwight D. Eisenhower and, after him, John F. Kennedy sent billions in aid and advisers to support the South Vietnamese government under Ngo Dinh Diem. His weak regime needed the money to ward off the Communist insurgency of the Vietcong, a guerrilla force aided by the north\\'s Ho Chi Minh, who had designs to reunify Vietnam. It was an outcome the Americans couldn\\'t accept: According to the so-called domino theory, a Communist victory in Vietnam would inevitably snowball across the region.And yet Vietnam remained a trouble spot that continued to fester. With the tacit backing of the Kennedy administration, a military coup occurred on Nov. 1, 1963, resulting in Diem\\'s assassination.It was a move about which Johnson had deep misgivings. \"I don\\'t believe assassination is ever justified,\" he said later. \"They were ruthless people. Ho Chi Minh was. But I mean it was ruthless of the United States government, with our boasted list of freedoms, to condone assassination because you don\\'t approve of a political philosophy.\" Still, after Kennedy\\'s assassination, Johnson dived into Vietnam immediately. \"Those first few days,\" he remembered, \"Vietnam was on top of the agenda, before the visiting heads of state got home from the funeral.\"His willingness can be explained partly by the man, and partly by his times. Unlike his Democratic Cold War predecessors, Harry S. Truman and Kennedy, Johnson was not so much a student of history as he was of human nature. There he paid attention, picking up on the weaknesses and frailties of those around him in the corridors of power the way a dog senses fear, often exploiting them for political advantage.Since arriving in Washington in 1934, Johnson had drawn lessons from the world-changing mistakes made by heads of state, especially those that he believed stemmed from weakness. During Johnson\\'s first term as a congressman, in 1938, Prime Minister Neville Chamberlain of Britain appeased Hitler in the belief that he was offering his countrymen \"peace for our time,\" while instead allowing for the German occupation of Czechoslovakia, the unchecked invasion of Poland and the beginning of World War II.As the war wound down, Franklin D. Roosevelt, in not taking a firmer hand with Stalin at the Yalta Conference - where Allied leaders met to discuss the fate of the postwar world - opened the door for the Soviet domination of Eastern Europe and the Soviets\\' attempts to spread their influence across the globe.Truman, Roosevelt\\'s successor, while drawing bold lines in the Cold War through a strict policy of containment, sent troops into battle in Korea without being fully prepared for what lay ahead as American support slipped. For the first time an American war ended in a draw. At the same time, Republicans harshly criticized Truman when the Communist revolutionaries led by Mao took over China as America turned a blind eye. The \"Who Lost China?\" debate that swept through Washington afterward was less a question than a Republican indictment of Truman and the Democratic Party.During Eisenhower\\'s eight White House years, while Johnson was Senate minority and then majority leader, the country was defined by its geopolitical position versus the Soviets. Any Soviet gain - a country falling to Communist rule, an American citizen yielding to Communist sympathies - was evidence that the Red Menace was knocking at America\\'s door, giving rise to the domino theory abroad and McCarthyism at home. Fear was the great motivator.In 1957, when the Soviets showed the world their superiority in space exploration with Sputnik, a satellite no larger than a beach ball, Johnson was a catalyst for improving the country\\'s shoddy space efforts. As he asked rhetorically, \"What American wants to go to bed by the light of a Communist moon?\"In 1959, when Cuba\\'s American-backed military dictator, Fulgencio Batista, was overthrown by Fidel Castro\\'s guerrillas, bringing Communism to the Western Hemisphere, Johnson believed the Eisenhower administration hadn\\'t done enough to prevent the insurgency. \"Ike sat on his fanny and let them take it by force,\" he said later.Kennedy also got into the act as a presidential candidate in 1960, exploiting American fears of a nuclear missile gap with the Soviets, less a reality than a campaign tactic effective enough to win him the White House by the thinnest of margins. Kennedy\\'s inaugural rhetoric - \"We shall pay any price, bear any burden, meet any hardship, support any friend, oppose any foe, to assure the survival and success of liberty\" - amounted to Cold War bravado. But he would soon stumble with his support of a botched military incursion in Cuba at the Bay of Pigs. Emboldened by Kennedy\\'s humiliation, the Soviets led the United States to the brink of nuclear war a year and a half later as American ships blocked the Soviets from moving nuclear warheads into Cuba.Weakness, Johnson had seen in three decades in Washington, was never rewarded. When he said of Vietnam, \"We\\'re not going to have any men with any umbrellas,\" a pointed reference to the hapless Chamberlain, the message was clear: America would stand up to Ho Chi Minh and the Vietcong in a way that Chamberlain had not stood up to Hitler and the Nazi regime. For the 36th president, Vietnam began less as a conflict he was determined to win than as one he couldn\\'t afford to lose.Lyndon Johnson was not going to be the first president to lose a war - and to the Communists, no less. But what began as a reflexive response to support Kennedy\\'s policy in the region, overwhelmingly supported by Congress, his cabinet, and the nation would over time become the central crisis of Johnson\\'s presidency.Ultimately, despite the consternation he so presciently expressed in the spring of 1964, Vietnam did mean something to Johnson. It became evident with the escalation of American military involvement in the war beginning in 1965. If Johnson had bet much of his presidency on the programs of the Great Society - civil rights, federal aid to education, Medicare, Medicaid, immigration reform - he stacked the balance of his chips fatefully behind the war in Vietnam. And, as he predicted, he found it nearly impossible to \"extricate\" himself once he got in deep.'"
      ]
     },
     "execution_count": 123,
     "metadata": {},
     "output_type": "execute_result"
    }
   ],
   "source": [
    "unicodetoascii(s)"
   ]
  },
  {
   "cell_type": "code",
   "execution_count": 116,
   "metadata": {
    "collapsed": false
   },
   "outputs": [
    {
     "ename": "UnicodeEncodeError",
     "evalue": "'ascii' codec can't encode character u'\\u2015' in position 0: ordinal not in range(128)",
     "output_type": "error",
     "traceback": [
      "\u001b[0;31m---------------------------------------------------------------------------\u001b[0m",
      "\u001b[0;31mUnicodeEncodeError\u001b[0m                        Traceback (most recent call last)",
      "\u001b[0;32m<ipython-input-116-bda03b3b8e08>\u001b[0m in \u001b[0;36m<module>\u001b[0;34m()\u001b[0m\n\u001b[0;32m----> 1\u001b[0;31m \u001b[1;34mu'\\u2015'\u001b[0m\u001b[1;33m.\u001b[0m\u001b[0mdecode\u001b[0m\u001b[1;33m(\u001b[0m\u001b[1;34m'utf-8'\u001b[0m\u001b[1;33m)\u001b[0m\u001b[1;33m\u001b[0m\u001b[0m\n\u001b[0m",
      "\u001b[0;32mC:\\Users\\Sri Ranga Sai\\Anaconda2\\lib\\encodings\\utf_8.pyc\u001b[0m in \u001b[0;36mdecode\u001b[0;34m(input, errors)\u001b[0m\n\u001b[1;32m     14\u001b[0m \u001b[1;33m\u001b[0m\u001b[0m\n\u001b[1;32m     15\u001b[0m \u001b[1;32mdef\u001b[0m \u001b[0mdecode\u001b[0m\u001b[1;33m(\u001b[0m\u001b[0minput\u001b[0m\u001b[1;33m,\u001b[0m \u001b[0merrors\u001b[0m\u001b[1;33m=\u001b[0m\u001b[1;34m'strict'\u001b[0m\u001b[1;33m)\u001b[0m\u001b[1;33m:\u001b[0m\u001b[1;33m\u001b[0m\u001b[0m\n\u001b[0;32m---> 16\u001b[0;31m     \u001b[1;32mreturn\u001b[0m \u001b[0mcodecs\u001b[0m\u001b[1;33m.\u001b[0m\u001b[0mutf_8_decode\u001b[0m\u001b[1;33m(\u001b[0m\u001b[0minput\u001b[0m\u001b[1;33m,\u001b[0m \u001b[0merrors\u001b[0m\u001b[1;33m,\u001b[0m \u001b[0mTrue\u001b[0m\u001b[1;33m)\u001b[0m\u001b[1;33m\u001b[0m\u001b[0m\n\u001b[0m\u001b[1;32m     17\u001b[0m \u001b[1;33m\u001b[0m\u001b[0m\n\u001b[1;32m     18\u001b[0m \u001b[1;32mclass\u001b[0m \u001b[0mIncrementalEncoder\u001b[0m\u001b[1;33m(\u001b[0m\u001b[0mcodecs\u001b[0m\u001b[1;33m.\u001b[0m\u001b[0mIncrementalEncoder\u001b[0m\u001b[1;33m)\u001b[0m\u001b[1;33m:\u001b[0m\u001b[1;33m\u001b[0m\u001b[0m\n",
      "\u001b[0;31mUnicodeEncodeError\u001b[0m: 'ascii' codec can't encode character u'\\u2015' in position 0: ordinal not in range(128)"
     ]
    }
   ],
   "source": [
    "u'\\u2015'.decode('utf-8')"
   ]
  },
  {
   "cell_type": "code",
   "execution_count": 124,
   "metadata": {
    "collapsed": false
   },
   "outputs": [
    {
     "data": {
      "text/plain": [
       "45"
      ]
     },
     "execution_count": 124,
     "metadata": {},
     "output_type": "execute_result"
    }
   ],
   "source": [
    "ord('-')"
   ]
  },
  {
   "cell_type": "code",
   "execution_count": 126,
   "metadata": {
    "collapsed": false
   },
   "outputs": [],
   "source": [
    "r = u'abc \\u2015'"
   ]
  },
  {
   "cell_type": "code",
   "execution_count": 128,
   "metadata": {
    "collapsed": false
   },
   "outputs": [
    {
     "data": {
      "text/plain": [
       "'abc '"
      ]
     },
     "execution_count": 128,
     "metadata": {},
     "output_type": "execute_result"
    }
   ],
   "source": [
    "r.encode(\"ascii\",'ignore')"
   ]
  },
  {
   "cell_type": "code",
   "execution_count": 139,
   "metadata": {
    "collapsed": true
   },
   "outputs": [],
   "source": [
    "str='abcd:def'"
   ]
  },
  {
   "cell_type": "code",
   "execution_count": 140,
   "metadata": {
    "collapsed": false
   },
   "outputs": [
    {
     "name": "stdout",
     "output_type": "stream",
     "text": [
      "abcd\n"
     ]
    }
   ],
   "source": [
    "if (str.find(':')>0):\n",
    "    print str[:str.find(':')]\n",
    "else:\n",
    "    print str"
   ]
  },
  {
   "cell_type": "code",
   "execution_count": 135,
   "metadata": {
    "collapsed": false
   },
   "outputs": [
    {
     "name": "stdout",
     "output_type": "stream",
     "text": [
      "-1\n"
     ]
    }
   ],
   "source": [
    "print str.find(':')"
   ]
  },
  {
   "cell_type": "code",
   "execution_count": 141,
   "metadata": {
    "collapsed": true
   },
   "outputs": [],
   "source": [
    "import newspaper"
   ]
  },
  {
   "cell_type": "code",
   "execution_count": 149,
   "metadata": {
    "collapsed": false
   },
   "outputs": [
    {
     "data": {
      "text/plain": [
       "['http://www.huffingtonpost.com',\n",
       " 'http://cnn.com',\n",
       " 'http://www.time.com',\n",
       " 'http://www.ted.com',\n",
       " 'http://pandodaily.com',\n",
       " 'http://www.cnbc.com',\n",
       " 'http://www.mlb.com',\n",
       " 'http://www.pcmag.com',\n",
       " 'http://www.foxnews.com',\n",
       " 'http://theatlantic.com',\n",
       " 'http://www.bbc.co.uk',\n",
       " 'http://www.vice.com',\n",
       " 'http://www.elle.com',\n",
       " 'http://www.vh1.com',\n",
       " 'http://espnf1.com',\n",
       " 'http://espn.com',\n",
       " 'http://www.npr.org',\n",
       " 'http://www.sfgate.com',\n",
       " 'http://www.glamour.com',\n",
       " 'http://www.whosdatedwho.com',\n",
       " 'http://kotaku.com',\n",
       " 'http://thebostonchannel.com',\n",
       " 'http://www.suntimes.com',\n",
       " 'http://www.businessinsider.com',\n",
       " 'http://www.rivals.com',\n",
       " 'http://thebusinessjournal.com',\n",
       " 'http://www.newrepublic.com',\n",
       " 'http://allthingsd.com',\n",
       " 'http://www.topgear.com',\n",
       " 'http://thecitizen.com',\n",
       " 'http://www.ign.com',\n",
       " 'http://www.sci-news.com',\n",
       " 'http://www.morningstar.com',\n",
       " 'http://www.variety.com',\n",
       " 'http://thebottomline.as.ucsb.edu',\n",
       " 'http://www.gamefaqs.com',\n",
       " 'http://blog.searchenginewatch.com',\n",
       " 'http://thedailyfairfield.com',\n",
       " 'http://www.solarnovus.com',\n",
       " 'http://medicalxpress.com',\n",
       " 'http://www.news.com.au',\n",
       " 'http://www.health.com',\n",
       " 'http://www.computerandvideogames.com',\n",
       " 'http://wsj.com',\n",
       " 'http://www.allure.com',\n",
       " 'http://www.theinsider.com',\n",
       " 'http://cnet.com',\n",
       " 'http://venturebeat.com',\n",
       " 'http://www.topspeed.com',\n",
       " 'http://thedailyworld.com',\n",
       " 'http://games.com',\n",
       " 'http://www.religionnews.com',\n",
       " 'http://blogs.berkeley.edu',\n",
       " 'http://www.sbnation.com',\n",
       " 'http://www.polygon.com',\n",
       " 'http://nytimes.com',\n",
       " 'http://www.thefrisky.com',\n",
       " 'http://telegram.com',\n",
       " 'http://yahoo.com',\n",
       " 'http://www.nbcnews.com',\n",
       " 'http://thedailypage.com',\n",
       " 'http://www.popsci.com',\n",
       " 'http://www.pbs.org',\n",
       " 'http://www.nasa.gov',\n",
       " 'http://www.guardiannews.com',\n",
       " 'http://www.weather.com',\n",
       " 'http://www.gq.com',\n",
       " 'http://www.etonline.com',\n",
       " 'http://telegraph.co.uk',\n",
       " 'http://www.fastcompany.com',\n",
       " 'http://www.infoworld.com',\n",
       " 'http://www.wired.com',\n",
       " 'http://www.pcgamer.com',\n",
       " 'http://sportingnews.com',\n",
       " 'http://theatlanticwire.com',\n",
       " 'http://thecarconnection.com',\n",
       " 'http://www.sun-sentinel.com',\n",
       " 'http://autoblog.com',\n",
       " 'http://www.environmentalleader.com',\n",
       " 'http://thecrimson.com',\n",
       " 'http://thecypresstimes.com',\n",
       " 'http://www.dailyfinance.com',\n",
       " 'http://www.politico.com',\n",
       " 'http://newsroom.fb.com',\n",
       " 'http://news.ycombinator.com',\n",
       " 'http://lifehacker.com',\n",
       " 'http://www.bet.com',\n",
       " 'http://independent.co.uk',\n",
       " 'http://www.mlssoccer.com',\n",
       " 'http://www.bodybuilding.com',\n",
       " 'http://www.cosmopolitan.com',\n",
       " 'http://www.apple.com',\n",
       " 'http://www.autonews.com',\n",
       " 'http://www.eonline.com',\n",
       " 'http://www.vanityfair.com',\n",
       " 'http://techdigest.tv',\n",
       " 'http://www.maximumpc.com',\n",
       " 'http://www.techradar.com',\n",
       " 'http://thedailyjournal.com',\n",
       " 'http://www.mlive.com',\n",
       " 'http://techworld.com.au',\n",
       " 'http://www.techmeme.com',\n",
       " 'http://thedailynewsegypt.com',\n",
       " 'http://thedailygrind.com.au',\n",
       " 'http://techcrunch.com',\n",
       " 'http://tehrantimes.com',\n",
       " 'http://www.hollywoodreporter.com',\n",
       " 'http://thedailysound.com',\n",
       " 'http://www.stltoday.com',\n",
       " 'http://deadspin.com',\n",
       " 'http://www.digitaltrends.com',\n",
       " 'http://seattletimes.com',\n",
       " 'http://seattlepi.com',\n",
       " 'http://www.cleveland.com',\n",
       " 'http://heritage.org',\n",
       " 'http://www.today.com',\n",
       " 'http://www.politifact.com',\n",
       " 'http://zdnet.com',\n",
       " 'http://www.nationalenquirer.com',\n",
       " 'http://egotastic.com',\n",
       " 'http://blogs.creativeloafing.com',\n",
       " 'http://townhall.com',\n",
       " 'http://www.eweek.com',\n",
       " 'http://www.vogue.co.uk',\n",
       " 'http://www.teenvogue.com',\n",
       " 'http://www.nypost.com',\n",
       " 'http://www.reuters.com',\n",
       " 'http://www.scientificamerican.com',\n",
       " 'http://www.miamiherald.com',\n",
       " 'http://www.nydailynews.com',\n",
       " 'http://www.newscientist.com',\n",
       " 'http://bigstory.ap.org',\n",
       " 'http://www.ebony.com',\n",
       " 'http://thedailystar.com',\n",
       " 'http://www.technologyreview.com',\n",
       " 'http://www.theverge.com',\n",
       " 'http://www.nba.com',\n",
       " 'http://www.cbssports.com',\n",
       " 'http://betabeat.com',\n",
       " 'http://www.tmz.com',\n",
       " 'http://tcnewsnet.com',\n",
       " 'http://www.latimes.com',\n",
       " 'http://www.c-span.org',\n",
       " 'http://www.style.com',\n",
       " 'http://www.peoplestylewatch.com',\n",
       " 'http://theboot.com',\n",
       " 'http://www.foxbusiness.com',\n",
       " 'http://www.pcworld.com',\n",
       " 'http://washingtontimes.com',\n",
       " 'http://thedailyreview.com',\n",
       " 'http://www.nfl.com',\n",
       " 'http://www.space.com',\n",
       " 'http://washingtontechnology.com',\n",
       " 'http://www.buzzfeed.com',\n",
       " 'http://inquirer.net',\n",
       " 'http://www.maxim.com',\n",
       " 'http://abcnews.com',\n",
       " 'http://www.extremetech.com',\n",
       " 'http://thedailytimes.com',\n",
       " 'http://mashable.com',\n",
       " 'http://washingtonexaminer.com',\n",
       " 'http://www.bhg.com',\n",
       " 'http://tech.mit.edu',\n",
       " 'http://hotair.com',\n",
       " 'http://www.1up.com',\n",
       " 'http://www.cbc.ca',\n",
       " 'http://gawker.com',\n",
       " 'http://celebuzz.com',\n",
       " 'http://sciencemag.org',\n",
       " 'http://www.rollingstone.com',\n",
       " 'http://slashdot.org',\n",
       " 'http://www.slate.com',\n",
       " 'http://bleacherreport.com',\n",
       " 'http://www.nascar.com',\n",
       " 'http://www.forbes.com',\n",
       " 'http://washingtonpost.com',\n",
       " 'http://nymag.com',\n",
       " 'http://www.microsoft.com',\n",
       " 'http://hbr.org',\n",
       " 'http://www.ft.com',\n",
       " 'http://www.dailymail.co.uk',\n",
       " 'http://www.theautochannel.com',\n",
       " 'http://g4tv.com',\n",
       " 'http://www.aljazeera.com',\n",
       " 'http://politicker.com',\n",
       " 'http://nbcsports.nbc.com',\n",
       " 'http://www.gamespot.com',\n",
       " 'http://news.sky.com',\n",
       " 'http://www.joystiq.com',\n",
       " 'http://www.escapistmagazine.com',\n",
       " 'http://www.thestreet.com',\n",
       " 'http://www.ew.com',\n",
       " 'http://www.nj.com',\n",
       " 'http://msn.com',\n",
       " 'http://thedailyreporter.com',\n",
       " 'http://www.economist.com',\n",
       " 'http://phys.org',\n",
       " 'http://www.glam.com',\n",
       " 'http://perezhilton.com',\n",
       " 'http://www.usmagazine.com',\n",
       " 'http://aol.com',\n",
       " 'http://www.cbsnews.com',\n",
       " 'http://www.tennis.com',\n",
       " 'http://washingtonian.com',\n",
       " 'http://www.sciencedaily.com',\n",
       " 'http://foxsports.com',\n",
       " 'http://www.popularmechanics.com',\n",
       " 'http://www.macworld.com',\n",
       " 'http://thinkprogress.org',\n",
       " 'http://www.mtv.com',\n",
       " 'http://discovery.com',\n",
       " 'http://www.people.com',\n",
       " 'http://thedailybeast.com',\n",
       " 'http://www.hollywood.com',\n",
       " 'http://medium.com',\n",
       " 'http://www.engadget.com',\n",
       " 'http://www.usnews.com',\n",
       " 'http://www.billboard.com',\n",
       " 'http://nationalgeographic.com',\n",
       " 'http://www.purseblog.com',\n",
       " 'http://www.giantbomb.com',\n",
       " 'http://www.automobilemag.com',\n",
       " 'http://thechronicle.com.au',\n",
       " 'http://tbnweekly.com',\n",
       " 'http://techreport.com',\n",
       " 'http://thedailyfix.com',\n",
       " 'http://www.animenewsnetwork.com',\n",
       " 'http://www.realclearpolitics.com',\n",
       " 'http://usatoday.com',\n",
       " 'http://www.techspot.com',\n",
       " 'http://discovermagazine.com',\n",
       " 'http://arstechnica.com',\n",
       " 'http://foreignpolicy.com',\n",
       " 'http://www.redstate.com',\n",
       " 'http://www.marketwatch.com',\n",
       " 'http://www.eurogamer.net',\n",
       " 'http://cbn.com',\n",
       " 'http://www.parade.com',\n",
       " 'http://www.bbcamerica.com',\n",
       " 'http://washingtonindependent.com',\n",
       " 'http://drudgereport.com',\n",
       " 'http://beta.na.leagueoflegends.com']"
      ]
     },
     "execution_count": 149,
     "metadata": {},
     "output_type": "execute_result"
    }
   ],
   "source": [
    "newspaper.popular_urls()\n"
   ]
  },
  {
   "cell_type": "code",
   "execution_count": 1,
   "metadata": {
    "collapsed": true
   },
   "outputs": [],
   "source": [
    "from collections import Counter"
   ]
  },
  {
   "cell_type": "code",
   "execution_count": 5,
   "metadata": {
    "collapsed": false
   },
   "outputs": [],
   "source": [
    "d =Counter(['a','a','b'])"
   ]
  },
  {
   "cell_type": "code",
   "execution_count": 6,
   "metadata": {
    "collapsed": false
   },
   "outputs": [
    {
     "data": {
      "text/plain": [
       "Counter({'a': 2, 'b': 1})"
      ]
     },
     "execution_count": 6,
     "metadata": {},
     "output_type": "execute_result"
    }
   ],
   "source": [
    "d"
   ]
  },
  {
   "cell_type": "code",
   "execution_count": 7,
   "metadata": {
    "collapsed": false
   },
   "outputs": [
    {
     "data": {
      "text/plain": [
       "2"
      ]
     },
     "execution_count": 7,
     "metadata": {},
     "output_type": "execute_result"
    }
   ],
   "source": [
    "d['a']"
   ]
  },
  {
   "cell_type": "code",
   "execution_count": 12,
   "metadata": {
    "collapsed": false
   },
   "outputs": [],
   "source": [
    "s={'a':2}"
   ]
  },
  {
   "cell_type": "code",
   "execution_count": 17,
   "metadata": {
    "collapsed": false
   },
   "outputs": [
    {
     "name": "stdout",
     "output_type": "stream",
     "text": [
      "a 2\n",
      "b 1\n"
     ]
    }
   ],
   "source": [
    "for k,v in d.items():\n",
    "    print k,v"
   ]
  },
  {
   "cell_type": "code",
   "execution_count": 71,
   "metadata": {
    "collapsed": true
   },
   "outputs": [],
   "source": [
    "sentence = ['this is a sent' , 'this is also a sent']"
   ]
  },
  {
   "cell_type": "code",
   "execution_count": 72,
   "metadata": {
    "collapsed": true
   },
   "outputs": [],
   "source": [
    "from nltk import wordpunct_tokenize"
   ]
  },
  {
   "cell_type": "code",
   "execution_count": 73,
   "metadata": {
    "collapsed": false
   },
   "outputs": [
    {
     "name": "stdout",
     "output_type": "stream",
     "text": [
      "['this', 'is', 'a', 'sent']\n",
      "Counter({'this': 1, 'a': 1, 'is': 1, 'sent': 1})\n",
      "['this', 'is', 'also', 'a', 'sent']\n",
      "Counter({'this': 1, 'also': 1, 'is': 1, 'a': 1, 'sent': 1})\n"
     ]
    }
   ],
   "source": [
    "for s in sentence:\n",
    "    print wordpunct_tokenize(s)\n",
    "    s = Counter([w for w in wordpunct_tokenize(s) if w not in';,\"\\''])\n",
    "    print s\n",
    "    \n",
    "    "
   ]
  },
  {
   "cell_type": "code",
   "execution_count": 74,
   "metadata": {
    "collapsed": false
   },
   "outputs": [
    {
     "data": {
      "text/plain": [
       "['this is a sent', 'this is also a sent']"
      ]
     },
     "execution_count": 74,
     "metadata": {},
     "output_type": "execute_result"
    }
   ],
   "source": [
    "sentence"
   ]
  },
  {
   "cell_type": "code",
   "execution_count": 75,
   "metadata": {
    "collapsed": true
   },
   "outputs": [],
   "source": [
    "import sklearn"
   ]
  },
  {
   "cell_type": "code",
   "execution_count": 76,
   "metadata": {
    "collapsed": true
   },
   "outputs": [],
   "source": [
    "from sklearn.feature_extraction.text import CountVectorizer"
   ]
  },
  {
   "cell_type": "code",
   "execution_count": 77,
   "metadata": {
    "collapsed": true
   },
   "outputs": [],
   "source": [
    "CV = CountVectorizer()"
   ]
  },
  {
   "cell_type": "code",
   "execution_count": 80,
   "metadata": {
    "collapsed": false
   },
   "outputs": [],
   "source": [
    "b_array = CV.fit_transform(sentence)"
   ]
  },
  {
   "cell_type": "code",
   "execution_count": 81,
   "metadata": {
    "collapsed": false
   },
   "outputs": [
    {
     "data": {
      "text/plain": [
       "<2x4 sparse matrix of type '<type 'numpy.int64'>'\n",
       "\twith 7 stored elements in Compressed Sparse Row format>"
      ]
     },
     "execution_count": 81,
     "metadata": {},
     "output_type": "execute_result"
    }
   ],
   "source": [
    "b_array"
   ]
  },
  {
   "cell_type": "code",
   "execution_count": 82,
   "metadata": {
    "collapsed": true
   },
   "outputs": [],
   "source": [
    "import networkx"
   ]
  },
  {
   "cell_type": "code",
   "execution_count": 85,
   "metadata": {
    "collapsed": true
   },
   "outputs": [],
   "source": [
    "from sklearn.feature_extraction.text import TfidfTransformer"
   ]
  },
  {
   "cell_type": "code",
   "execution_count": 86,
   "metadata": {
    "collapsed": false
   },
   "outputs": [
    {
     "data": {
      "text/plain": [
       "array([[0, 1, 1, 1],\n",
       "       [1, 1, 1, 1]], dtype=int64)"
      ]
     },
     "execution_count": 86,
     "metadata": {},
     "output_type": "execute_result"
    }
   ],
   "source": [
    "b_array.toarray()"
   ]
  },
  {
   "cell_type": "code",
   "execution_count": 89,
   "metadata": {
    "collapsed": false
   },
   "outputs": [],
   "source": [
    "n_mat = TfidfTransformer().fit_transform(b_array)"
   ]
  },
  {
   "cell_type": "code",
   "execution_count": 90,
   "metadata": {
    "collapsed": true
   },
   "outputs": [],
   "source": [
    "s_g = n_mat * n_mat.T"
   ]
  },
  {
   "cell_type": "code",
   "execution_count": 93,
   "metadata": {
    "collapsed": false
   },
   "outputs": [
    {
     "data": {
      "text/plain": [
       "array([[ 1.        ,  0.77651453],\n",
       "       [ 0.77651453,  1.        ]])"
      ]
     },
     "execution_count": 93,
     "metadata": {},
     "output_type": "execute_result"
    }
   ],
   "source": [
    "s_g.toarray()"
   ]
  },
  {
   "cell_type": "code",
   "execution_count": 94,
   "metadata": {
    "collapsed": false
   },
   "outputs": [
    {
     "data": {
      "text/plain": [
       "array([[ 0.        ,  0.57735027,  0.57735027,  0.57735027],\n",
       "       [ 0.63009934,  0.44832087,  0.44832087,  0.44832087]])"
      ]
     },
     "execution_count": 94,
     "metadata": {},
     "output_type": "execute_result"
    }
   ],
   "source": [
    "n_mat.toarray()"
   ]
  },
  {
   "cell_type": "code",
   "execution_count": 96,
   "metadata": {
    "collapsed": false
   },
   "outputs": [],
   "source": [
    "graph = networkx.from_scipy_sparse_matrix(s_g)"
   ]
  },
  {
   "cell_type": "code",
   "execution_count": 102,
   "metadata": {
    "collapsed": false
   },
   "outputs": [],
   "source": [
    "S = networkx.pagerank(graph)"
   ]
  },
  {
   "cell_type": "code",
   "execution_count": 103,
   "metadata": {
    "collapsed": false
   },
   "outputs": [
    {
     "data": {
      "text/plain": [
       "{0: 0.5, 1: 0.49999999999999994}"
      ]
     },
     "execution_count": 103,
     "metadata": {},
     "output_type": "execute_result"
    }
   ],
   "source": [
    "S"
   ]
  },
  {
   "cell_type": "code",
   "execution_count": 104,
   "metadata": {
    "collapsed": true
   },
   "outputs": [],
   "source": [
    "R = sorted([(S[i],sen) for (i,sen) in enumerate(sentence)],reverse = True)"
   ]
  },
  {
   "cell_type": "code",
   "execution_count": 105,
   "metadata": {
    "collapsed": false
   },
   "outputs": [
    {
     "data": {
      "text/plain": [
       "[(0.5, 'this is a sent'), (0.49999999999999994, 'this is also a sent')]"
      ]
     },
     "execution_count": 105,
     "metadata": {},
     "output_type": "execute_result"
    }
   ],
   "source": [
    "R"
   ]
  },
  {
   "cell_type": "code",
   "execution_count": 109,
   "metadata": {
    "collapsed": false
   },
   "outputs": [
    {
     "name": "stdout",
     "output_type": "stream",
     "text": [
      "0 0 {'weight': 1.0000000000000002}\n",
      "0 1 {'weight': 0.77651453047451557}\n",
      "1 1 {'weight': 1.0}\n"
     ]
    }
   ],
   "source": [
    "for u,v,d in graph.edges(data=True):\n",
    "    print u,v,d"
   ]
  },
  {
   "cell_type": "code",
   "execution_count": null,
   "metadata": {
    "collapsed": true
   },
   "outputs": [],
   "source": []
  }
 ],
 "metadata": {
  "kernelspec": {
   "display_name": "Python 2",
   "language": "python",
   "name": "python2"
  },
  "language_info": {
   "codemirror_mode": {
    "name": "ipython",
    "version": 2
   },
   "file_extension": ".py",
   "mimetype": "text/x-python",
   "name": "python",
   "nbconvert_exporter": "python",
   "pygments_lexer": "ipython2",
   "version": "2.7.13"
  }
 },
 "nbformat": 4,
 "nbformat_minor": 2
}
